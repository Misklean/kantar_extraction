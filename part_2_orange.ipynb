{
 "cells": [
  {
   "cell_type": "markdown",
   "metadata": {},
   "source": [
    "### Introduction\n",
    "\n",
    "In this part of the analysis, we build upon the clustering results obtained in the first step, where we identified groups using the best-performing clustering method for this dataset. We then compared two algorithms, Random Forest and Gradient Boosting, to develop an effective classification algorithm capable of assigning individuals to the identified groups based on their responses. Random Forest was chosen for its robustness, interpretability, and ability to handle diverse data types, while Gradient Boosting was selected for its strong predictive performance and capacity to capture non-linear relationships. Finally, we optimized the number of questions used in the classification process by analyzing feature importance and iteratively reducing the feature set to achieve the best trade-off between performance and simplicity. This step ensures that the resulting algorithm remains both efficient and accurate, providing a practical solution for future use with minimal inputs."
   ]
  },
  {
   "cell_type": "markdown",
   "metadata": {},
   "source": [
    "## IMPORT ##"
   ]
  },
  {
   "cell_type": "code",
   "execution_count": 12,
   "metadata": {},
   "outputs": [],
   "source": [
    "import matplotlib.pyplot as plt\n",
    "from sklearn.metrics import accuracy_score\n",
    "import pandas as pd\n",
    "from sklearn.ensemble import GradientBoostingClassifier\n",
    "from sklearn.model_selection import train_test_split\n",
    "from sklearn.metrics import classification_report\n",
    "from sklearn.ensemble import RandomForestClassifier\n",
    "from sklearn.preprocessing import StandardScaler\n",
    "from sklearn.preprocessing import StandardScaler\n",
    "from sklearn.cluster import KMeans\n",
    "\n"
   ]
  },
  {
   "cell_type": "markdown",
   "metadata": {},
   "source": [
    "## Data Loading ##"
   ]
  },
  {
   "cell_type": "code",
   "execution_count": 13,
   "metadata": {},
   "outputs": [],
   "source": [
    "file_path = \"fic_epita_kantar_codes.csv\"\n",
    "data_codes = pd.read_csv(file_path, sep=';')"
   ]
  },
  {
   "cell_type": "markdown",
   "metadata": {},
   "source": [
    "**Select relevant columns**"
   ]
  },
  {
   "cell_type": "code",
   "execution_count": 14,
   "metadata": {},
   "outputs": [],
   "source": [
    "columns_of_interest = [\n",
    "    \"A9_1_slice\", \"A9_2_slice\", \"A9_3_slice\", \"A9_4_slice\", \"A9_5_slice\",\n",
    "    \"A9_6_slice\", \"A9_7_slice\", \"A9_8_slice\", \"A9_9_slice\", \"A9_10_slice\",\n",
    "    \"A9_11_slice\", \"A9_12_slice\", \"A9_13_slice\", \"A9_14_slice\", \"A9_15_slice\",\n",
    "    \"A9_16_slice\", \"A10_1_slice\", \"A10_2_slice\", \"A10_3_slice\", \"A10_4_slice\",\n",
    "    \"A10_5_slice\", \"A10_6_slice\", \"A10_7_slice\", \"A10_8_slice\",\n",
    "    \"A11_1_slice\", \"A11_2_slice\", \"A11_3_slice\", \"A11_4_slice\", \"A11_5_slice\",\n",
    "    \"A11_6_slice\", \"A11_7_slice\", \"A11_8_slice\", \"A11_9_slice\", \"A11_10_slice\",\n",
    "    \"A11_11_slice\", \"A11_12_slice\", \"A11_13_slice\"\n",
    "]\n",
    "subset_data = data_codes[columns_of_interest]"
   ]
  },
  {
   "cell_type": "markdown",
   "metadata": {},
   "source": [
    "## Adding the cluster column using the best algo with the best number of cluster found in part 1 ##"
   ]
  },
  {
   "cell_type": "code",
   "execution_count": null,
   "metadata": {},
   "outputs": [
    {
     "name": "stderr",
     "output_type": "stream",
     "text": [
      "/tmp/ipykernel_131606/3220641698.py:13: SettingWithCopyWarning: \n",
      "A value is trying to be set on a copy of a slice from a DataFrame.\n",
      "Try using .loc[row_indexer,col_indexer] = value instead\n",
      "\n",
      "See the caveats in the documentation: https://pandas.pydata.org/pandas-docs/stable/user_guide/indexing.html#returning-a-view-versus-a-copy\n",
      "  subset_data['cluster'] = kmeans_labels\n"
     ]
    }
   ],
   "source": [
    "# Scale the data\n",
    "scaler = StandardScaler()\n",
    "scaled_data = scaler.fit_transform(subset_data.fillna(0))  # Replace missing values\n",
    "\n",
    "# Perform KMeans clustering\n",
    "kmeans = KMeans(n_clusters=3, random_state=42)\n",
    "kmeans_labels = kmeans.fit_predict(scaled_data)\n",
    "\n",
    "# Add cluster labels to the data\n",
    "subset_data['cluster'] = kmeans_labels\n"
   ]
  },
  {
   "cell_type": "markdown",
   "metadata": {},
   "source": [
    "## Training Random Forest ##"
   ]
  },
  {
   "cell_type": "code",
   "execution_count": 16,
   "metadata": {},
   "outputs": [
    {
     "name": "stdout",
     "output_type": "stream",
     "text": [
      "Classification Report:\n",
      "               precision    recall  f1-score   support\n",
      "\n",
      "           0       0.93      0.97      0.95       262\n",
      "           1       0.98      0.90      0.94       184\n",
      "           2       0.95      0.96      0.96       554\n",
      "\n",
      "    accuracy                           0.95      1000\n",
      "   macro avg       0.96      0.94      0.95      1000\n",
      "weighted avg       0.95      0.95      0.95      1000\n",
      "\n"
     ]
    }
   ],
   "source": [
    "# Define features (golden questions) and target (clusters)\n",
    "X = subset_data.drop(columns=['cluster'])\n",
    "y = subset_data['cluster']\n",
    "\n",
    "# Split into training and test sets\n",
    "X_train, X_test, y_train, y_test = train_test_split(X, y, test_size=0.2, random_state=42)\n",
    "\n",
    "# Train and Evaluate model\n",
    "rf = RandomForestClassifier(random_state=42)\n",
    "rf.fit(X_train, y_train)\n",
    "y_pred = rf.predict(X_test)\n",
    "print(\"Classification Report:\\n\", classification_report(y_test, y_pred))"
   ]
  },
  {
   "cell_type": "markdown",
   "metadata": {},
   "source": [
    "## Training Gradient Boosting ##"
   ]
  },
  {
   "cell_type": "code",
   "execution_count": 17,
   "metadata": {},
   "outputs": [
    {
     "name": "stdout",
     "output_type": "stream",
     "text": [
      "Classification Report:\n",
      "               precision    recall  f1-score   support\n",
      "\n",
      "           0       0.93      0.97      0.95       262\n",
      "           1       0.98      0.90      0.94       184\n",
      "           2       0.95      0.96      0.96       554\n",
      "\n",
      "    accuracy                           0.95      1000\n",
      "   macro avg       0.96      0.94      0.95      1000\n",
      "weighted avg       0.95      0.95      0.95      1000\n",
      "\n"
     ]
    }
   ],
   "source": [
    "# Define features (questions) and target (clusters)\n",
    "X2 = subset_data.drop(columns=['cluster'])\n",
    "y2 = subset_data['cluster']\n",
    "\n",
    "# Split into training and test sets\n",
    "X_train2, X_test2, y_train2, y_test2 = train_test_split(X2, y2, test_size=0.2, random_state=42)\n",
    "\n",
    "# Train and Evaluate model\n",
    "gb = GradientBoostingClassifier(random_state=42)\n",
    "gb.fit(X_train2, y_train2)\n",
    "y_pred2 = gb.predict(X_test2)\n",
    "print(\"Classification Report:\\n\", classification_report(y_test, y_pred))\n"
   ]
  },
  {
   "cell_type": "markdown",
   "metadata": {},
   "source": [
    "## Getting the importance of each question ##"
   ]
  },
  {
   "cell_type": "markdown",
   "metadata": {},
   "source": [
    "**For random forest**"
   ]
  },
  {
   "cell_type": "code",
   "execution_count": 18,
   "metadata": {},
   "outputs": [
    {
     "name": "stdout",
     "output_type": "stream",
     "text": [
      "Feature Importance (Top Questions) for Random Forest:\n",
      "          Feature  Importance\n",
      "33  A11_10_slice    0.083317\n",
      "30   A11_7_slice    0.071852\n",
      "28   A11_5_slice    0.071477\n",
      "26   A11_3_slice    0.056607\n",
      "31   A11_8_slice    0.052130\n",
      "7     A9_8_slice    0.043957\n",
      "13   A9_14_slice    0.040699\n",
      "36  A11_13_slice    0.039214\n",
      "20   A10_5_slice    0.038229\n",
      "3     A9_4_slice    0.035639\n",
      "34  A11_11_slice    0.035226\n",
      "2     A9_3_slice    0.029591\n",
      "1     A9_2_slice    0.029545\n",
      "0     A9_1_slice    0.026178\n",
      "24   A11_1_slice    0.023914\n",
      "25   A11_2_slice    0.022092\n",
      "9    A9_10_slice    0.021260\n",
      "32   A11_9_slice    0.020025\n",
      "35  A11_12_slice    0.019942\n",
      "27   A11_4_slice    0.019370\n",
      "16   A10_1_slice    0.018899\n",
      "6     A9_7_slice    0.018642\n",
      "10   A9_11_slice    0.017545\n",
      "15   A9_16_slice    0.016899\n",
      "12   A9_13_slice    0.016795\n",
      "11   A9_12_slice    0.016338\n",
      "14   A9_15_slice    0.016270\n",
      "22   A10_7_slice    0.014869\n",
      "23   A10_8_slice    0.013685\n",
      "8     A9_9_slice    0.011098\n",
      "29   A11_6_slice    0.009880\n",
      "19   A10_4_slice    0.009809\n",
      "17   A10_2_slice    0.008753\n",
      "5     A9_6_slice    0.008104\n",
      "21   A10_6_slice    0.007870\n",
      "18   A10_3_slice    0.007530\n",
      "4     A9_5_slice    0.006751\n"
     ]
    }
   ],
   "source": [
    "feature_importance = rf.feature_importances_\n",
    "importance_df = pd.DataFrame({\n",
    "    'Feature': X.columns,\n",
    "    'Importance': feature_importance\n",
    "}).sort_values(by='Importance', ascending=False)\n",
    "\n",
    "print(\"Feature Importance (Top Questions) for Random Forest:\\n\", importance_df)"
   ]
  },
  {
   "cell_type": "markdown",
   "metadata": {},
   "source": [
    "**For Gradient Boosting**"
   ]
  },
  {
   "cell_type": "code",
   "execution_count": 19,
   "metadata": {},
   "outputs": [
    {
     "name": "stdout",
     "output_type": "stream",
     "text": [
      "Feature Importance (Top Questions) for Gradiant Boosting:\n",
      "          Feature  Importance\n",
      "28   A11_5_slice    0.140620\n",
      "30   A11_7_slice    0.112928\n",
      "33  A11_10_slice    0.098550\n",
      "7     A9_8_slice    0.064707\n",
      "26   A11_3_slice    0.060625\n",
      "31   A11_8_slice    0.055011\n",
      "13   A9_14_slice    0.048094\n",
      "3     A9_4_slice    0.043571\n",
      "34  A11_11_slice    0.042199\n",
      "36  A11_13_slice    0.037003\n",
      "20   A10_5_slice    0.036868\n",
      "0     A9_1_slice    0.031365\n",
      "2     A9_3_slice    0.030072\n",
      "1     A9_2_slice    0.028438\n",
      "16   A10_1_slice    0.023673\n",
      "35  A11_12_slice    0.017286\n",
      "27   A11_4_slice    0.015426\n",
      "9    A9_10_slice    0.014880\n",
      "24   A11_1_slice    0.014104\n",
      "6     A9_7_slice    0.013802\n",
      "10   A9_11_slice    0.012057\n",
      "25   A11_2_slice    0.011214\n",
      "12   A9_13_slice    0.008521\n",
      "32   A11_9_slice    0.007891\n",
      "15   A9_16_slice    0.006086\n",
      "22   A10_7_slice    0.005294\n",
      "14   A9_15_slice    0.005157\n",
      "23   A10_8_slice    0.002945\n",
      "19   A10_4_slice    0.002839\n",
      "17   A10_2_slice    0.002215\n",
      "11   A9_12_slice    0.001998\n",
      "8     A9_9_slice    0.001505\n",
      "29   A11_6_slice    0.001439\n",
      "5     A9_6_slice    0.000662\n",
      "21   A10_6_slice    0.000586\n",
      "18   A10_3_slice    0.000263\n",
      "4     A9_5_slice    0.000106\n"
     ]
    }
   ],
   "source": [
    "feature_importance2 = gb.feature_importances_\n",
    "importance_df2 = pd.DataFrame({\n",
    "    'Feature': X2.columns,\n",
    "    'Importance': feature_importance2\n",
    "}).sort_values(by='Importance', ascending=False)\n",
    "\n",
    "print(\"Feature Importance (Top Questions) for Gradiant Boosting:\\n\", importance_df2)"
   ]
  },
  {
   "cell_type": "markdown",
   "metadata": {},
   "source": [
    "## Finding performance when lowering question amount ##"
   ]
  },
  {
   "cell_type": "markdown",
   "metadata": {},
   "source": [
    "**For random forest**"
   ]
  },
  {
   "cell_type": "code",
   "execution_count": 20,
   "metadata": {},
   "outputs": [
    {
     "name": "stdout",
     "output_type": "stream",
     "text": [
      "    Num_Features  Accuracy\n",
      "0              1     0.730\n",
      "1              2     0.749\n",
      "2              3     0.795\n",
      "3              4     0.800\n",
      "4              5     0.806\n",
      "5              6     0.830\n",
      "6              7     0.836\n",
      "7              8     0.836\n",
      "8              9     0.841\n",
      "9             10     0.875\n",
      "10            11     0.881\n",
      "11            12     0.882\n",
      "12            13     0.889\n",
      "13            14     0.893\n",
      "14            15     0.903\n",
      "15            16     0.901\n",
      "16            17     0.906\n",
      "17            18     0.902\n",
      "18            19     0.906\n",
      "19            20     0.919\n",
      "20            21     0.925\n",
      "21            22     0.929\n",
      "22            23     0.937\n",
      "23            24     0.939\n",
      "24            25     0.942\n",
      "25            26     0.942\n",
      "26            27     0.944\n",
      "27            28     0.940\n",
      "28            29     0.947\n",
      "29            30     0.950\n",
      "30            31     0.948\n",
      "31            32     0.948\n",
      "32            33     0.956\n",
      "33            34     0.955\n",
      "34            35     0.957\n",
      "35            36     0.951\n",
      "36            37     0.948\n"
     ]
    }
   ],
   "source": [
    "results = []\n",
    "for i in range(1, len(importance_df) + 1):\n",
    "    top_features = importance_df['Feature'].head(i)\n",
    "    X_train_reduced = X_train[top_features]\n",
    "    X_test_reduced = X_test[top_features]\n",
    "    \n",
    "    rf_reduced = RandomForestClassifier(random_state=42)\n",
    "    rf_reduced.fit(X_train_reduced, y_train)\n",
    "    y_pred_reduced = rf_reduced.predict(X_test_reduced)\n",
    "    \n",
    "    acc = accuracy_score(y_test, y_pred_reduced)\n",
    "    results.append({'Num_Features': i, 'Accuracy': acc})\n",
    "\n",
    "results_df = pd.DataFrame(results)\n",
    "print(results_df)"
   ]
  },
  {
   "cell_type": "markdown",
   "metadata": {},
   "source": [
    "**For Gradient Boosting**"
   ]
  },
  {
   "cell_type": "code",
   "execution_count": 21,
   "metadata": {},
   "outputs": [
    {
     "name": "stdout",
     "output_type": "stream",
     "text": [
      "    Num_Features  Accuracy\n",
      "0              1     0.752\n",
      "1              2     0.750\n",
      "2              3     0.796\n",
      "3              4     0.825\n",
      "4              5     0.838\n",
      "5              6     0.851\n",
      "6              7     0.859\n",
      "7              8     0.865\n",
      "8              9     0.888\n",
      "9             10     0.896\n",
      "10            11     0.899\n",
      "11            12     0.906\n",
      "12            13     0.910\n",
      "13            14     0.914\n",
      "14            15     0.918\n",
      "15            16     0.918\n",
      "16            17     0.923\n",
      "17            18     0.921\n",
      "18            19     0.920\n",
      "19            20     0.929\n",
      "20            21     0.929\n",
      "21            22     0.937\n",
      "22            23     0.947\n",
      "23            24     0.949\n",
      "24            25     0.952\n",
      "25            26     0.951\n",
      "26            27     0.945\n",
      "27            28     0.952\n",
      "28            29     0.953\n",
      "29            30     0.955\n",
      "30            31     0.959\n",
      "31            32     0.955\n",
      "32            33     0.959\n",
      "33            34     0.961\n",
      "34            35     0.956\n",
      "35            36     0.956\n",
      "36            37     0.961\n"
     ]
    }
   ],
   "source": [
    "results2 = []\n",
    "for i in range(1, len(importance_df2) + 1):\n",
    "    top_features2 = importance_df2['Feature'].head(i)\n",
    "    X_train_reduced2 = X_train2[top_features2]\n",
    "    X_test_reduced2 = X_test2[top_features2]\n",
    "    \n",
    "    gb_reduced = GradientBoostingClassifier(random_state=42)\n",
    "    gb_reduced.fit(X_train_reduced2, y_train2)\n",
    "    y_pred_reduced2 = gb_reduced.predict(X_test_reduced2)\n",
    "    \n",
    "    acc = accuracy_score(y_test2, y_pred_reduced2)\n",
    "    results2.append({'Num_Features': i, 'Accuracy': acc})\n",
    "\n",
    "results_df2 = pd.DataFrame(results2)\n",
    "print(results_df2)\n"
   ]
  },
  {
   "cell_type": "code",
   "execution_count": 22,
   "metadata": {},
   "outputs": [
    {
     "data": {
      "image/png": "[encoded data removed]",
      "text/plain": [
       "<Figure size 640x480 with 1 Axes>"
      ]
     },
     "metadata": {},
     "output_type": "display_data"
    }
   ],
   "source": [
    "plt.plot(results_df['Num_Features'], results_df['Accuracy'], marker='o')\n",
    "plt.xlabel(\"Number of Features\")\n",
    "plt.ylabel(\"Accuracy\")\n",
    "plt.title(\"Accuracy vs Number of Features (Random Forest)\")\n",
    "plt.grid()\n",
    "plt.show()"
   ]
  },
  {
   "cell_type": "code",
   "execution_count": 23,
   "metadata": {},
   "outputs": [
    {
     "data": {
      "image/png": "[encoded data removed]",
      "text/plain": [
       "<Figure size 640x480 with 1 Axes>"
      ]
     },
     "metadata": {},
     "output_type": "display_data"
    }
   ],
   "source": [
    "plt.plot(results_df2['Num_Features'], results_df2['Accuracy'], marker='o')\n",
    "plt.xlabel(\"Number of Features\")\n",
    "plt.ylabel(\"Accuracy\")\n",
    "plt.title(\"Accuracy vs Number of Features (Gradiant Boosting)\")\n",
    "plt.grid()\n",
    "plt.show()\n"
   ]
  },
  {
   "cell_type": "markdown",
   "metadata": {},
   "source": [
    "### Conclusion\n",
    "\n",
    "Both Random Forest and Gradient Boosting are similarly effective, with Gradient Boosting being slightly better in terms of accuracy. Therefore, the optimal choice is Gradient Boosting.\n",
    "\n",
    "Using 23 features results in an accuracy nearing 95%, striking the best balance between performance and complexity. Beyond that, the improvements in accuracy become minimal, and the model starts to slow down, making it the optimal choice for maximizing classification performance while maintaining efficiency."
   ]
  },
  {
   "cell_type": "markdown",
   "metadata": {},
   "source": []
  }
 ],
 "metadata": {
  "kernelspec": {
   "display_name": "Python 3",
   "language": "python",
   "name": "python3"
  },
  "language_info": {
   "codemirror_mode": {
    "name": "ipython",
    "version": 3
   },
   "file_extension": ".py",
   "mimetype": "text/x-python",
   "name": "python",
   "nbconvert_exporter": "python",
   "pygments_lexer": "ipython3",
   "version": "3.10.12"
  }
 },
 "nbformat": 4,
 "nbformat_minor": 2
}
