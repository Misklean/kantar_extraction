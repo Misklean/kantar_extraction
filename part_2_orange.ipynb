{
 "cells": [
  {
   "cell_type": "markdown",
   "metadata": {},
   "source": [
    "### Introduction\n",
    "\n",
    "In this part of the analysis, we build upon the clustering results obtained in the first step, where we identified groups using the best-performing clustering method for this dataset. We then compared two algorithms, Random Forest and Gradient Boosting, to develop an effective classification algorithm capable of assigning individuals to the identified groups based on their responses. Random Forest was chosen for its robustness, interpretability, and ability to handle diverse data types, while Gradient Boosting was selected for its strong predictive performance and capacity to capture non-linear relationships. Finally, we optimized the number of questions used in the classification process by analyzing feature importance and iteratively reducing the feature set to achieve the best trade-off between performance and simplicity. This step ensures that the resulting algorithm remains both efficient and accurate, providing a practical solution for future use with minimal inputs."
   ]
  },
  {
   "cell_type": "markdown",
   "metadata": {},
   "source": [
    "## IMPORT ##"
   ]
  },
  {
   "cell_type": "code",
   "execution_count": 1,
   "metadata": {},
   "outputs": [],
   "source": [
    "import matplotlib.pyplot as plt\n",
    "from sklearn.metrics import accuracy_score\n",
    "import numpy as np\n",
    "import pandas as pd\n",
    "from sklearn.ensemble import GradientBoostingClassifier\n",
    "from sklearn.model_selection import train_test_split\n",
    "from sklearn.metrics import classification_report\n",
    "from sklearn.ensemble import RandomForestClassifier\n",
    "from sklearn.cluster import SpectralClustering\n",
    "from sklearn.preprocessing import StandardScaler"
   ]
  },
  {
   "cell_type": "markdown",
   "metadata": {},
   "source": [
    "## Data Loading ##"
   ]
  },
  {
   "cell_type": "code",
   "execution_count": 2,
   "metadata": {},
   "outputs": [],
   "source": [
    "# Load the data\n",
    "file_path = \"fic_epita_kantar_codes.csv\"\n",
    "data_codes = pd.read_csv(file_path, sep=';')"
   ]
  },
  {
   "cell_type": "code",
   "execution_count": 3,
   "metadata": {},
   "outputs": [],
   "source": [
    "# Select relevant columns\n",
    "columns_of_interest = [\n",
    "    \"A9_1_slice\", \"A9_2_slice\", \"A9_3_slice\", \"A9_4_slice\", \"A9_5_slice\",\n",
    "    \"A9_6_slice\", \"A9_7_slice\", \"A9_8_slice\", \"A9_9_slice\", \"A9_10_slice\",\n",
    "    \"A9_11_slice\", \"A9_12_slice\", \"A9_13_slice\", \"A9_14_slice\", \"A9_15_slice\",\n",
    "    \"A9_16_slice\", \"A10_1_slice\", \"A10_2_slice\", \"A10_3_slice\", \"A10_4_slice\",\n",
    "    \"A10_5_slice\", \"A10_6_slice\", \"A10_7_slice\", \"A10_8_slice\",\n",
    "    \"A11_1_slice\", \"A11_2_slice\", \"A11_3_slice\", \"A11_4_slice\", \"A11_5_slice\",\n",
    "    \"A11_6_slice\", \"A11_7_slice\", \"A11_8_slice\", \"A11_9_slice\", \"A11_10_slice\",\n",
    "    \"A11_11_slice\", \"A11_12_slice\", \"A11_13_slice\"\n",
    "]\n",
    "subset_data = data_codes[columns_of_interest]"
   ]
  },
  {
   "cell_type": "markdown",
   "metadata": {},
   "source": [
    "## Adding the cluster column using the best algo with the best number of cluster found in part 1 ##"
   ]
  },
  {
   "cell_type": "code",
   "execution_count": 4,
   "metadata": {},
   "outputs": [
    {
     "name": "stderr",
     "output_type": "stream",
     "text": [
      "/tmp/ipykernel_148922/1069035997.py:13: SettingWithCopyWarning: \n",
      "A value is trying to be set on a copy of a slice from a DataFrame.\n",
      "Try using .loc[row_indexer,col_indexer] = value instead\n",
      "\n",
      "See the caveats in the documentation: https://pandas.pydata.org/pandas-docs/stable/user_guide/indexing.html#returning-a-view-versus-a-copy\n",
      "  subset_data['cluster'] = spectral_labels\n"
     ]
    }
   ],
   "source": [
    "# Scale the data\n",
    "scaler = StandardScaler()\n",
    "scaled_data = scaler.fit_transform(subset_data.fillna(0))  # Replace missing values\n",
    "\n",
    "# Perform spectral clustering\n",
    "spectral = SpectralClustering(n_clusters=3, affinity='nearest_neighbors', random_state=42)\n",
    "spectral_labels = spectral.fit_predict(scaled_data)\n",
    "\n",
    "# Add cluster labels to the data\n",
    "subset_data['cluster'] = spectral_labels\n"
   ]
  },
  {
   "cell_type": "markdown",
   "metadata": {},
   "source": [
    "## Training Random Forest ##"
   ]
  },
  {
   "cell_type": "code",
   "execution_count": 5,
   "metadata": {},
   "outputs": [
    {
     "name": "stdout",
     "output_type": "stream",
     "text": [
      "Classification Report:\n",
      "               precision    recall  f1-score   support\n",
      "\n",
      "           0       1.00      0.77      0.87        13\n",
      "           1       0.98      0.98      0.98       764\n",
      "           2       0.95      0.94      0.94       223\n",
      "\n",
      "    accuracy                           0.97      1000\n",
      "   macro avg       0.97      0.90      0.93      1000\n",
      "weighted avg       0.97      0.97      0.97      1000\n",
      "\n"
     ]
    }
   ],
   "source": [
    "# Define features (golden questions) and target (clusters)\n",
    "X = subset_data.drop(columns=['cluster'])\n",
    "y = subset_data['cluster']\n",
    "\n",
    "# Split into training and test sets\n",
    "X_train, X_test, y_train, y_test = train_test_split(X, y, test_size=0.2, random_state=42)\n",
    "\n",
    "# Train a Random Forest Classifier\n",
    "rf = RandomForestClassifier(random_state=42)\n",
    "rf.fit(X_train, y_train)\n",
    "\n",
    "# Predict and evaluate\n",
    "y_pred = rf.predict(X_test)\n",
    "print(\"Classification Report:\\n\", classification_report(y_test, y_pred))\n"
   ]
  },
  {
   "cell_type": "markdown",
   "metadata": {},
   "source": [
    "## Training Gradient Boosting ##"
   ]
  },
  {
   "cell_type": "code",
   "execution_count": 6,
   "metadata": {},
   "outputs": [
    {
     "name": "stdout",
     "output_type": "stream",
     "text": [
      "Classification Report:\n",
      "               precision    recall  f1-score   support\n",
      "\n",
      "           0       1.00      0.77      0.87        13\n",
      "           1       0.98      0.98      0.98       764\n",
      "           2       0.95      0.94      0.94       223\n",
      "\n",
      "    accuracy                           0.97      1000\n",
      "   macro avg       0.97      0.90      0.93      1000\n",
      "weighted avg       0.97      0.97      0.97      1000\n",
      "\n"
     ]
    }
   ],
   "source": [
    "# Define features (questions) and target (clusters)\n",
    "X2 = subset_data.drop(columns=['cluster'])\n",
    "y2 = subset_data['cluster']\n",
    "\n",
    "# Split into training and test sets\n",
    "X_train2, X_test2, y_train2, y_test2 = train_test_split(X2, y2, test_size=0.2, random_state=42)\n",
    "\n",
    "# Train a Gradient Boosting Classifier\n",
    "gb = GradientBoostingClassifier(random_state=42)\n",
    "gb.fit(X_train2, y_train2)\n",
    "\n",
    "# Predict and evaluate\n",
    "y_pred2 = gb.predict(X_test2)\n",
    "print(\"Classification Report:\\n\", classification_report(y_test, y_pred))\n"
   ]
  },
  {
   "cell_type": "markdown",
   "metadata": {},
   "source": [
    "## Getting the importance of each question ##"
   ]
  },
  {
   "cell_type": "code",
   "execution_count": 7,
   "metadata": {},
   "outputs": [
    {
     "name": "stdout",
     "output_type": "stream",
     "text": [
      "Feature Importance (Top Questions) for Random Forest:\n",
      "          Feature  Importance\n",
      "30   A11_7_slice    0.090382\n",
      "28   A11_5_slice    0.083774\n",
      "33  A11_10_slice    0.083164\n",
      "26   A11_3_slice    0.070590\n",
      "31   A11_8_slice    0.064725\n",
      "20   A10_5_slice    0.056825\n",
      "16   A10_1_slice    0.042247\n",
      "34  A11_11_slice    0.040135\n",
      "25   A11_2_slice    0.035924\n",
      "24   A11_1_slice    0.034621\n",
      "36  A11_13_slice    0.030029\n",
      "32   A11_9_slice    0.029286\n",
      "27   A11_4_slice    0.025217\n",
      "7     A9_8_slice    0.020887\n",
      "0     A9_1_slice    0.020676\n",
      "2     A9_3_slice    0.018130\n",
      "17   A10_2_slice    0.017833\n",
      "3     A9_4_slice    0.017816\n",
      "35  A11_12_slice    0.017118\n",
      "1     A9_2_slice    0.016357\n",
      "15   A9_16_slice    0.013947\n",
      "22   A10_7_slice    0.013669\n",
      "12   A9_13_slice    0.013149\n",
      "13   A9_14_slice    0.012124\n",
      "14   A9_15_slice    0.012015\n",
      "23   A10_8_slice    0.011791\n",
      "6     A9_7_slice    0.011791\n",
      "29   A11_6_slice    0.011472\n",
      "9    A9_10_slice    0.010386\n",
      "11   A9_12_slice    0.010209\n",
      "21   A10_6_slice    0.010157\n",
      "10   A9_11_slice    0.009926\n",
      "19   A10_4_slice    0.009601\n",
      "18   A10_3_slice    0.009079\n",
      "8     A9_9_slice    0.008582\n",
      "5     A9_6_slice    0.008463\n",
      "4     A9_5_slice    0.007903\n"
     ]
    }
   ],
   "source": [
    "# FOR RANDOM FOREST\n",
    "# Get feature importance\n",
    "feature_importance = rf.feature_importances_\n",
    "importance_df = pd.DataFrame({\n",
    "    'Feature': X.columns,\n",
    "    'Importance': feature_importance\n",
    "}).sort_values(by='Importance', ascending=False)\n",
    "\n",
    "print(\"Feature Importance (Top Questions) for Random Forest:\\n\", importance_df)\n"
   ]
  },
  {
   "cell_type": "code",
   "execution_count": 8,
   "metadata": {},
   "outputs": [
    {
     "name": "stdout",
     "output_type": "stream",
     "text": [
      "Feature Importance (Top Questions) for Gradiant Boosting:\n",
      "          Feature  Importance\n",
      "30   A11_7_slice    0.202889\n",
      "28   A11_5_slice    0.130931\n",
      "26   A11_3_slice    0.113335\n",
      "31   A11_8_slice    0.078899\n",
      "20   A10_5_slice    0.051268\n",
      "16   A10_1_slice    0.048668\n",
      "33  A11_10_slice    0.043213\n",
      "25   A11_2_slice    0.037185\n",
      "0     A9_1_slice    0.033521\n",
      "36  A11_13_slice    0.030084\n",
      "34  A11_11_slice    0.026607\n",
      "3     A9_4_slice    0.023437\n",
      "27   A11_4_slice    0.022400\n",
      "7     A9_8_slice    0.021668\n",
      "24   A11_1_slice    0.018486\n",
      "35  A11_12_slice    0.015559\n",
      "1     A9_2_slice    0.011569\n",
      "32   A11_9_slice    0.011380\n",
      "2     A9_3_slice    0.010143\n",
      "9    A9_10_slice    0.009577\n",
      "29   A11_6_slice    0.006769\n",
      "19   A10_4_slice    0.006347\n",
      "12   A9_13_slice    0.006133\n",
      "13   A9_14_slice    0.005958\n",
      "17   A10_2_slice    0.005570\n",
      "15   A9_16_slice    0.003970\n",
      "23   A10_8_slice    0.003879\n",
      "11   A9_12_slice    0.003572\n",
      "14   A9_15_slice    0.003558\n",
      "22   A10_7_slice    0.002961\n",
      "8     A9_9_slice    0.002431\n",
      "5     A9_6_slice    0.001553\n",
      "21   A10_6_slice    0.001520\n",
      "18   A10_3_slice    0.001492\n",
      "6     A9_7_slice    0.001452\n",
      "10   A9_11_slice    0.001102\n",
      "4     A9_5_slice    0.000916\n"
     ]
    }
   ],
   "source": [
    "# FOR Gradiant Boosting\n",
    "# Get feature importance\n",
    "feature_importance2 = gb.feature_importances_\n",
    "importance_df2 = pd.DataFrame({\n",
    "    'Feature': X2.columns,\n",
    "    'Importance': feature_importance2\n",
    "}).sort_values(by='Importance', ascending=False)\n",
    "\n",
    "print(\"Feature Importance (Top Questions) for Gradiant Boosting:\\n\", importance_df2)\n"
   ]
  },
  {
   "cell_type": "markdown",
   "metadata": {},
   "source": [
    "## Finding performance when lowering question amount ##"
   ]
  },
  {
   "cell_type": "code",
   "execution_count": 9,
   "metadata": {},
   "outputs": [
    {
     "name": "stdout",
     "output_type": "stream",
     "text": [
      "    Num_Features  Accuracy\n",
      "0              1     0.851\n",
      "1              2     0.878\n",
      "2              3     0.880\n",
      "3              4     0.900\n",
      "4              5     0.896\n",
      "5              6     0.908\n",
      "6              7     0.913\n",
      "7              8     0.913\n",
      "8              9     0.925\n",
      "9             10     0.925\n",
      "10            11     0.920\n",
      "11            12     0.925\n",
      "12            13     0.932\n",
      "13            14     0.933\n",
      "14            15     0.939\n",
      "15            16     0.947\n",
      "16            17     0.950\n",
      "17            18     0.957\n",
      "18            19     0.956\n",
      "19            20     0.959\n",
      "20            21     0.956\n",
      "21            22     0.960\n",
      "22            23     0.957\n",
      "23            24     0.961\n",
      "24            25     0.958\n",
      "25            26     0.962\n",
      "26            27     0.968\n",
      "27            28     0.962\n",
      "28            29     0.966\n",
      "29            30     0.962\n",
      "30            31     0.962\n",
      "31            32     0.970\n",
      "32            33     0.963\n",
      "33            34     0.966\n",
      "34            35     0.968\n",
      "35            36     0.971\n",
      "36            37     0.963\n"
     ]
    }
   ],
   "source": [
    "# FOR RANDOM FOREST\n",
    "# Evaluate performance with fewer features\n",
    "results = []\n",
    "for i in range(1, len(importance_df) + 1):\n",
    "    top_features = importance_df['Feature'].head(i)\n",
    "    X_train_reduced = X_train[top_features]\n",
    "    X_test_reduced = X_test[top_features]\n",
    "    \n",
    "    rf_reduced = RandomForestClassifier(random_state=42)\n",
    "    rf_reduced.fit(X_train_reduced, y_train)\n",
    "    y_pred_reduced = rf_reduced.predict(X_test_reduced)\n",
    "    \n",
    "    acc = accuracy_score(y_test, y_pred_reduced)\n",
    "    results.append({'Num_Features': i, 'Accuracy': acc})\n",
    "\n",
    "# Display results\n",
    "results_df = pd.DataFrame(results)\n",
    "print(results_df)\n"
   ]
  },
  {
   "cell_type": "code",
   "execution_count": 10,
   "metadata": {},
   "outputs": [
    {
     "name": "stdout",
     "output_type": "stream",
     "text": [
      "    Num_Features  Accuracy\n",
      "0              1     0.851\n",
      "1              2     0.878\n",
      "2              3     0.887\n",
      "3              4     0.893\n",
      "4              5     0.899\n",
      "5              6     0.901\n",
      "6              7     0.911\n",
      "7              8     0.911\n",
      "8              9     0.932\n",
      "9             10     0.932\n",
      "10            11     0.944\n",
      "11            12     0.940\n",
      "12            13     0.946\n",
      "13            14     0.952\n",
      "14            15     0.943\n",
      "15            16     0.948\n",
      "16            17     0.953\n",
      "17            18     0.953\n",
      "18            19     0.947\n",
      "19            20     0.954\n",
      "20            21     0.952\n",
      "21            22     0.953\n",
      "22            23     0.956\n",
      "23            24     0.955\n",
      "24            25     0.953\n",
      "25            26     0.955\n",
      "26            27     0.957\n",
      "27            28     0.956\n",
      "28            29     0.958\n",
      "29            30     0.957\n",
      "30            31     0.962\n",
      "31            32     0.961\n",
      "32            33     0.960\n",
      "33            34     0.965\n",
      "34            35     0.965\n",
      "35            36     0.970\n",
      "36            37     0.967\n"
     ]
    }
   ],
   "source": [
    "# FOR Gradiant Boosting\n",
    "# Evaluate performance with fewer features\n",
    "results2 = []\n",
    "for i in range(1, len(importance_df2) + 1):\n",
    "    top_features2 = importance_df2['Feature'].head(i)\n",
    "    X_train_reduced2 = X_train2[top_features2]\n",
    "    X_test_reduced2 = X_test2[top_features2]\n",
    "    \n",
    "    gb_reduced = GradientBoostingClassifier(random_state=42)\n",
    "    gb_reduced.fit(X_train_reduced2, y_train2)\n",
    "    y_pred_reduced2 = gb_reduced.predict(X_test_reduced2)\n",
    "    \n",
    "    acc = accuracy_score(y_test2, y_pred_reduced2)\n",
    "    results2.append({'Num_Features': i, 'Accuracy': acc})\n",
    "\n",
    "# Display results\n",
    "results_df2 = pd.DataFrame(results2)\n",
    "print(results_df2)\n"
   ]
  },
  {
   "cell_type": "code",
   "execution_count": 11,
   "metadata": {},
   "outputs": [
    {
     "data": {
      "image/png": "[encoded data removed]",
      "text/plain": [
       "<Figure size 640x480 with 1 Axes>"
      ]
     },
     "metadata": {},
     "output_type": "display_data"
    }
   ],
   "source": [
    "plt.plot(results_df['Num_Features'], results_df['Accuracy'], marker='o')\n",
    "plt.xlabel(\"Number of Features\")\n",
    "plt.ylabel(\"Accuracy\")\n",
    "plt.title(\"Accuracy vs Number of Features (Random Forest)\")\n",
    "plt.grid()\n",
    "plt.show()\n"
   ]
  },
  {
   "cell_type": "code",
   "execution_count": 12,
   "metadata": {},
   "outputs": [
    {
     "data": {
      "image/png": "[encoded data removed]",
      "text/plain": [
       "<Figure size 640x480 with 1 Axes>"
      ]
     },
     "metadata": {},
     "output_type": "display_data"
    }
   ],
   "source": [
    "plt.plot(results_df2['Num_Features'], results_df2['Accuracy'], marker='o')\n",
    "plt.xlabel(\"Number of Features\")\n",
    "plt.ylabel(\"Accuracy\")\n",
    "plt.title(\"Accuracy vs Number of Features (Gradiant Boosting)\")\n",
    "plt.grid()\n",
    "plt.show()\n"
   ]
  },
  {
   "cell_type": "markdown",
   "metadata": {},
   "source": [
    "### Conclusion\n",
    "\n",
    "Both Random Forest and Gradient Boosting are similarly effective, with Gradient Boosting being slightly better in terms of accuracy. Therefore, the optimal choice is Gradient Boosting.\n",
    "\n",
    "Using 14 features results in an accuracy of 95.2%, striking the best balance between performance and complexity. Beyond 14 features, the improvements in accuracy become minimal, and the model starts to slow down, making 14 features the optimal choice for maximizing classification performance while maintaining efficiency."
   ]
  },
  {
   "cell_type": "markdown",
   "metadata": {},
   "source": []
  }
 ],
 "metadata": {
  "kernelspec": {
   "display_name": "Python 3",
   "language": "python",
   "name": "python3"
  },
  "language_info": {
   "codemirror_mode": {
    "name": "ipython",
    "version": 3
   },
   "file_extension": ".py",
   "mimetype": "text/x-python",
   "name": "python",
   "nbconvert_exporter": "python",
   "pygments_lexer": "ipython3",
   "version": "3.10.12"
  }
 },
 "nbformat": 4,
 "nbformat_minor": 2
}
