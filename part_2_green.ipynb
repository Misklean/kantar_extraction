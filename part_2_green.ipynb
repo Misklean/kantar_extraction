{
 "cells": [
  {
   "cell_type": "markdown",
   "metadata": {},
   "source": [
    "### Introduction\n",
    "\n",
    "In this part of the analysis, we build upon the clustering results obtained in the first step, where we identified groups using the best-performing clustering method for this dataset. We then compared two algorithms, Random Forest and Gradient Boosting, to develop an effective classification algorithm capable of assigning individuals to the identified groups based on their responses. Random Forest was chosen for its robustness, interpretability, and ability to handle diverse data types, while Gradient Boosting was selected for its strong predictive performance and capacity to capture non-linear relationships. Finally, we optimized the number of questions used in the classification process by analyzing feature importance and iteratively reducing the feature set to achieve the best trade-off between performance and simplicity. This step ensures that the resulting algorithm remains both efficient and accurate, providing a practical solution for future use with minimal inputs."
   ]
  },
  {
   "cell_type": "markdown",
   "metadata": {},
   "source": [
    "## IMPORT ##"
   ]
  },
  {
   "cell_type": "code",
   "execution_count": 1,
   "metadata": {},
   "outputs": [],
   "source": [
    "import matplotlib.pyplot as plt\n",
    "from sklearn.metrics import accuracy_score\n",
    "import pandas as pd\n",
    "from sklearn.ensemble import GradientBoostingClassifier\n",
    "from sklearn.model_selection import train_test_split\n",
    "from sklearn.metrics import classification_report\n",
    "from sklearn.ensemble import RandomForestClassifier\n",
    "from sklearn.preprocessing import StandardScaler\n",
    "from sklearn.preprocessing import StandardScaler\n",
    "from sklearn.cluster import KMeans\n",
    "from sklearn.impute import SimpleImputer\n",
    "\n"
   ]
  },
  {
   "cell_type": "markdown",
   "metadata": {},
   "source": [
    "## Data Loading ##"
   ]
  },
  {
   "cell_type": "code",
   "execution_count": 2,
   "metadata": {},
   "outputs": [],
   "source": [
    "file_path = \"fic_epita_kantar_codes.csv\"\n",
    "data_codes = pd.read_csv(file_path, sep=';')"
   ]
  },
  {
   "cell_type": "markdown",
   "metadata": {},
   "source": [
    "**Select relevant columns**"
   ]
  },
  {
   "cell_type": "code",
   "execution_count": 3,
   "metadata": {},
   "outputs": [],
   "source": [
    "# Select relevant columns\n",
    "columns_of_interest = [\n",
    "    \"A11\", \"A12\", \"A13\", \"A14\", \"A4\", \"A5\", \"A5bis\",\n",
    "    \"A8_1_slice\", \"A8_2_slice\", \"A8_3_slice\", \"A8_4_slice\",\n",
    "    \"B1_1_slice\", \"B1_2_slice\", \"B2_1_slice\", \"B2_2_slice\",\n",
    "    \"B3\", \"B4\", \"B6\",\n",
    "    \"C1_1_slice\", \"C1_2_slice\", \"C1_3_slice\", \"C1_4_slice\",\n",
    "    \"C1_5_slice\", \"C1_6_slice\", \"C1_7_slice\", \"C1_8_slice\", \"C1_9_slice\"\n",
    "]\n",
    "subset_data = data_codes[columns_of_interest]"
   ]
  },
  {
   "cell_type": "markdown",
   "metadata": {},
   "source": [
    "## Adding the cluster column using the best algo with the best number of cluster found in part 1 ##"
   ]
  },
  {
   "cell_type": "code",
   "execution_count": 4,
   "metadata": {},
   "outputs": [
    {
     "name": "stderr",
     "output_type": "stream",
     "text": [
      "/tmp/ipykernel_207096/1714191391.py:10: SettingWithCopyWarning: \n",
      "A value is trying to be set on a copy of a slice from a DataFrame.\n",
      "Try using .loc[row_indexer,col_indexer] = value instead\n",
      "\n",
      "See the caveats in the documentation: https://pandas.pydata.org/pandas-docs/stable/user_guide/indexing.html#returning-a-view-versus-a-copy\n",
      "  subset_data['cluster'] = kmeans_labels\n"
     ]
    }
   ],
   "source": [
    "# Scale the data\n",
    "scaler = StandardScaler()\n",
    "scaled_data = scaler.fit_transform(subset_data.fillna(0))  # Replace missing values\n",
    "\n",
    "# Perform KMeans clustering\n",
    "kmeans = KMeans(n_clusters=4, random_state=42)\n",
    "kmeans_labels = kmeans.fit_predict(scaled_data)\n",
    "\n",
    "# Add cluster labels to the data\n",
    "subset_data['cluster'] = kmeans_labels\n"
   ]
  },
  {
   "cell_type": "markdown",
   "metadata": {},
   "source": [
    "## Training Random Forest ##"
   ]
  },
  {
   "cell_type": "code",
   "execution_count": 5,
   "metadata": {},
   "outputs": [
    {
     "name": "stdout",
     "output_type": "stream",
     "text": [
      "Classification Report:\n",
      "               precision    recall  f1-score   support\n",
      "\n",
      "           0       0.93      0.87      0.90       108\n",
      "           1       0.96      0.99      0.98       538\n",
      "           2       0.94      0.81      0.87        93\n",
      "           3       0.98      0.99      0.98       261\n",
      "\n",
      "    accuracy                           0.96      1000\n",
      "   macro avg       0.95      0.91      0.93      1000\n",
      "weighted avg       0.96      0.96      0.96      1000\n",
      "\n"
     ]
    }
   ],
   "source": [
    "# Define features (golden questions) and target (clusters)\n",
    "X = subset_data.drop(columns=['cluster'])\n",
    "y = subset_data['cluster']\n",
    "\n",
    "# Split into training and test sets\n",
    "X_train, X_test, y_train, y_test = train_test_split(X, y, test_size=0.2, random_state=42)\n",
    "\n",
    "# Train and Evaluate model\n",
    "rf = RandomForestClassifier(random_state=42)\n",
    "rf.fit(X_train, y_train)\n",
    "y_pred = rf.predict(X_test)\n",
    "print(\"Classification Report:\\n\", classification_report(y_test, y_pred))"
   ]
  },
  {
   "cell_type": "markdown",
   "metadata": {},
   "source": [
    "## Training Gradient Boosting ##"
   ]
  },
  {
   "cell_type": "code",
   "execution_count": 6,
   "metadata": {},
   "outputs": [
    {
     "name": "stdout",
     "output_type": "stream",
     "text": [
      "Classification Report:\n",
      "               precision    recall  f1-score   support\n",
      "\n",
      "           0       0.95      0.92      0.93       108\n",
      "           1       0.97      0.99      0.98       538\n",
      "           2       0.94      0.87      0.91        93\n",
      "           3       0.98      0.99      0.99       261\n",
      "\n",
      "    accuracy                           0.97      1000\n",
      "   macro avg       0.96      0.94      0.95      1000\n",
      "weighted avg       0.97      0.97      0.97      1000\n",
      "\n"
     ]
    }
   ],
   "source": [
    "# Define features (questions) and target (clusters)\n",
    "X2 = subset_data.drop(columns=['cluster'])\n",
    "y2 = subset_data['cluster']\n",
    "\n",
    "# Impute missing values with the mean\n",
    "imputer = SimpleImputer(strategy='mean')\n",
    "X2_imputed = imputer.fit_transform(X2)\n",
    "\n",
    "# Split the data\n",
    "X_train2, X_test2, y_train2, y_test2 = train_test_split(X2_imputed, y2, test_size=0.2, random_state=42)\n",
    "\n",
    "# Train and evaluate model\n",
    "gb = GradientBoostingClassifier(random_state=42)\n",
    "gb.fit(X_train2, y_train2)\n",
    "y_pred2 = gb.predict(X_test2)\n",
    "print(\"Classification Report:\\n\", classification_report(y_test2, y_pred2))\n",
    "\n"
   ]
  },
  {
   "cell_type": "markdown",
   "metadata": {},
   "source": [
    "## Getting the importance of each question ##"
   ]
  },
  {
   "cell_type": "markdown",
   "metadata": {},
   "source": [
    "**For random forest**"
   ]
  },
  {
   "cell_type": "code",
   "execution_count": 7,
   "metadata": {},
   "outputs": [
    {
     "name": "stdout",
     "output_type": "stream",
     "text": [
      "Feature Importance (Top Questions) for Random Forest:\n",
      "        Feature  Importance\n",
      "4           A4    0.137382\n",
      "6        A5bis    0.124918\n",
      "5           A5    0.124324\n",
      "9   A8_3_slice    0.084954\n",
      "8   A8_2_slice    0.060560\n",
      "7   A8_1_slice    0.059688\n",
      "0          A11    0.050347\n",
      "21  C1_4_slice    0.042480\n",
      "24  C1_7_slice    0.041330\n",
      "23  C1_6_slice    0.031081\n",
      "10  A8_4_slice    0.030162\n",
      "25  C1_8_slice    0.029449\n",
      "1          A12    0.027443\n",
      "20  C1_3_slice    0.025814\n",
      "18  C1_1_slice    0.017167\n",
      "22  C1_5_slice    0.016838\n",
      "26  C1_9_slice    0.016687\n",
      "19  C1_2_slice    0.013562\n",
      "17          B6    0.012354\n",
      "16          B4    0.010607\n",
      "15          B3    0.009742\n",
      "13  B2_1_slice    0.009590\n",
      "14  B2_2_slice    0.007714\n",
      "12  B1_2_slice    0.006305\n",
      "11  B1_1_slice    0.006281\n",
      "2          A13    0.003221\n",
      "3          A14    0.000000\n"
     ]
    }
   ],
   "source": [
    "feature_importance = rf.feature_importances_\n",
    "importance_df = pd.DataFrame({\n",
    "    'Feature': X.columns,\n",
    "    'Importance': feature_importance\n",
    "}).sort_values(by='Importance', ascending=False)\n",
    "\n",
    "print(\"Feature Importance (Top Questions) for Random Forest:\\n\", importance_df)"
   ]
  },
  {
   "cell_type": "markdown",
   "metadata": {},
   "source": [
    "**For Gradient Boosting**"
   ]
  },
  {
   "cell_type": "code",
   "execution_count": 8,
   "metadata": {},
   "outputs": [
    {
     "name": "stdout",
     "output_type": "stream",
     "text": [
      "Feature Importance (Top Questions) for Gradiant Boosting:\n",
      "        Feature  Importance\n",
      "4           A4    0.473199\n",
      "9   A8_3_slice    0.103731\n",
      "21  C1_4_slice    0.096608\n",
      "7   A8_1_slice    0.095942\n",
      "24  C1_7_slice    0.042156\n",
      "8   A8_2_slice    0.040218\n",
      "23  C1_6_slice    0.031291\n",
      "20  C1_3_slice    0.023079\n",
      "25  C1_8_slice    0.020325\n",
      "26  C1_9_slice    0.012862\n",
      "18  C1_1_slice    0.011572\n",
      "10  A8_4_slice    0.009906\n",
      "22  C1_5_slice    0.008562\n",
      "17          B6    0.006149\n",
      "13  B2_1_slice    0.005680\n",
      "15          B3    0.005298\n",
      "19  C1_2_slice    0.003005\n",
      "16          B4    0.002910\n",
      "14  B2_2_slice    0.002247\n",
      "12  B1_2_slice    0.001462\n",
      "5           A5    0.001038\n",
      "11  B1_1_slice    0.000937\n",
      "6        A5bis    0.000926\n",
      "0          A11    0.000605\n",
      "1          A12    0.000169\n",
      "2          A13    0.000124\n",
      "3          A14    0.000000\n"
     ]
    }
   ],
   "source": [
    "feature_importance2 = gb.feature_importances_\n",
    "importance_df2 = pd.DataFrame({\n",
    "    'Feature': X2.columns,\n",
    "    'Importance': feature_importance2\n",
    "}).sort_values(by='Importance', ascending=False)\n",
    "\n",
    "print(\"Feature Importance (Top Questions) for Gradiant Boosting:\\n\", importance_df2)"
   ]
  },
  {
   "cell_type": "markdown",
   "metadata": {},
   "source": [
    "## Finding performance when lowering question amount ##"
   ]
  },
  {
   "cell_type": "markdown",
   "metadata": {},
   "source": [
    "**For random forest**"
   ]
  },
  {
   "cell_type": "code",
   "execution_count": 9,
   "metadata": {},
   "outputs": [
    {
     "name": "stdout",
     "output_type": "stream",
     "text": [
      "    Num_Features  Accuracy\n",
      "0              1     0.799\n",
      "1              2     0.799\n",
      "2              3     0.799\n",
      "3              4     0.864\n",
      "4              5     0.863\n",
      "5              6     0.868\n",
      "6              7     0.865\n",
      "7              8     0.911\n",
      "8              9     0.918\n",
      "9             10     0.926\n",
      "10            11     0.933\n",
      "11            12     0.938\n",
      "12            13     0.937\n",
      "13            14     0.941\n",
      "14            15     0.946\n",
      "15            16     0.943\n",
      "16            17     0.955\n",
      "17            18     0.954\n",
      "18            19     0.954\n",
      "19            20     0.959\n",
      "20            21     0.959\n",
      "21            22     0.958\n",
      "22            23     0.960\n",
      "23            24     0.961\n",
      "24            25     0.965\n",
      "25            26     0.959\n",
      "26            27     0.960\n"
     ]
    }
   ],
   "source": [
    "results = []\n",
    "for i in range(1, len(importance_df) + 1):\n",
    "    top_features = importance_df['Feature'].head(i)\n",
    "    X_train_reduced = X_train[top_features]\n",
    "    X_test_reduced = X_test[top_features]\n",
    "    \n",
    "    rf_reduced = RandomForestClassifier(random_state=42)\n",
    "    rf_reduced.fit(X_train_reduced, y_train)\n",
    "    y_pred_reduced = rf_reduced.predict(X_test_reduced)\n",
    "    \n",
    "    acc = accuracy_score(y_test, y_pred_reduced)\n",
    "    results.append({'Num_Features': i, 'Accuracy': acc})\n",
    "\n",
    "results_df = pd.DataFrame(results)\n",
    "print(results_df)"
   ]
  },
  {
   "cell_type": "markdown",
   "metadata": {},
   "source": [
    "**For Gradient Boosting**"
   ]
  },
  {
   "cell_type": "code",
   "execution_count": 13,
   "metadata": {},
   "outputs": [
    {
     "name": "stdout",
     "output_type": "stream",
     "text": [
      "    Num_Features  Accuracy\n",
      "0              1     0.799\n",
      "1              2     0.864\n",
      "2              3     0.909\n",
      "3              4     0.911\n",
      "4              5     0.920\n",
      "5              6     0.922\n",
      "6              7     0.930\n",
      "7              8     0.932\n",
      "8              9     0.939\n",
      "9             10     0.943\n",
      "10            11     0.949\n",
      "11            12     0.951\n",
      "12            13     0.951\n",
      "13            14     0.950\n",
      "14            15     0.962\n",
      "15            16     0.966\n",
      "16            17     0.964\n",
      "17            18     0.966\n",
      "18            19     0.970\n",
      "19            20     0.973\n",
      "20            21     0.971\n",
      "21            22     0.971\n",
      "22            23     0.971\n",
      "23            24     0.971\n",
      "24            25     0.973\n",
      "25            26     0.971\n",
      "26            27     0.973\n"
     ]
    }
   ],
   "source": [
    "# Ensure X2 is a DataFrame with proper column names\n",
    "X2_imputed_df = pd.DataFrame(X2_imputed, columns=X2.columns)\n",
    "\n",
    "results2 = []\n",
    "\n",
    "# Loop through 1 to the total number of features\n",
    "for i in range(1, len(importance_df2) + 1):\n",
    "    # Get the top `i` features as a list\n",
    "    top_features2 = importance_df2['Feature'].head(i).tolist()\n",
    "    \n",
    "    # Reduce the training and test data to the top `i` features\n",
    "    X_train_reduced2 = X_train2[:, [X2.columns.get_loc(f) for f in top_features2]]\n",
    "    X_test_reduced2 = X_test2[:, [X2.columns.get_loc(f) for f in top_features2]]\n",
    "    \n",
    "    # Train the Gradient Boosting model\n",
    "    gb_reduced = GradientBoostingClassifier(random_state=42)\n",
    "    gb_reduced.fit(X_train_reduced2, y_train2)\n",
    "    \n",
    "    # Predict and calculate accuracy\n",
    "    y_pred_reduced2 = gb_reduced.predict(X_test_reduced2)\n",
    "    acc = accuracy_score(y_test2, y_pred_reduced2)\n",
    "    \n",
    "    # Append the results\n",
    "    results2.append({'Num_Features': i, 'Accuracy': acc})\n",
    "\n",
    "# Convert results to a DataFrame for visualization\n",
    "results_df2 = pd.DataFrame(results2)\n",
    "print(results_df2)\n"
   ]
  },
  {
   "cell_type": "code",
   "execution_count": 14,
   "metadata": {},
   "outputs": [
    {
     "data": {
      "image/png": "[encoded data removed]",
      "text/plain": [
       "<Figure size 640x480 with 1 Axes>"
      ]
     },
     "metadata": {},
     "output_type": "display_data"
    }
   ],
   "source": [
    "plt.plot(results_df['Num_Features'], results_df['Accuracy'], marker='o')\n",
    "plt.xlabel(\"Number of Features\")\n",
    "plt.ylabel(\"Accuracy\")\n",
    "plt.title(\"Accuracy vs Number of Features (Random Forest)\")\n",
    "plt.grid()\n",
    "plt.show()"
   ]
  },
  {
   "cell_type": "code",
   "execution_count": 15,
   "metadata": {},
   "outputs": [
    {
     "data": {
      "image/png": "[encoded data removed]",
      "text/plain": [
       "<Figure size 640x480 with 1 Axes>"
      ]
     },
     "metadata": {},
     "output_type": "display_data"
    }
   ],
   "source": [
    "plt.plot(results_df2['Num_Features'], results_df2['Accuracy'], marker='o')\n",
    "plt.xlabel(\"Number of Features\")\n",
    "plt.ylabel(\"Accuracy\")\n",
    "plt.title(\"Accuracy vs Number of Features (Gradiant Boosting)\")\n",
    "plt.grid()\n",
    "plt.show()\n"
   ]
  },
  {
   "cell_type": "markdown",
   "metadata": {},
   "source": [
    "### Conclusion\n",
    "\n",
    "Gradient Boosting is better then Random Forest for this task with better results. Therefore, the optimal choice is Gradient Boosting.\n",
    "\n",
    "Using just 15 features results in an accuracy nearing 97%, striking the best balance between performance and complexity. Beyond that, the improvements in accuracy become minimal, and the model starts to slow down, making it the optimal choice for maximizing classification performance while maintaining efficiency."
   ]
  },
  {
   "cell_type": "markdown",
   "metadata": {},
   "source": []
  }
 ],
 "metadata": {
  "kernelspec": {
   "display_name": "Python 3",
   "language": "python",
   "name": "python3"
  },
  "language_info": {
   "codemirror_mode": {
    "name": "ipython",
    "version": 3
   },
   "file_extension": ".py",
   "mimetype": "text/x-python",
   "name": "python",
   "nbconvert_exporter": "python",
   "pygments_lexer": "ipython3",
   "version": "3.10.12"
  }
 },
 "nbformat": 4,
 "nbformat_minor": 2
}
